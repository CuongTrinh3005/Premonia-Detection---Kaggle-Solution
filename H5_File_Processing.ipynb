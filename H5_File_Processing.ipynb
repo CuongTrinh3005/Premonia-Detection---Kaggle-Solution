{
  "nbformat": 4,
  "nbformat_minor": 0,
  "metadata": {
    "colab": {
      "name": "H5 File Processing",
      "provenance": [],
      "collapsed_sections": []
    },
    "kernelspec": {
      "name": "python3",
      "display_name": "Python 3"
    },
    "accelerator": "GPU"
  },
  "cells": [
    {
      "cell_type": "code",
      "metadata": {
        "id": "Yk04y0ZNhpZb",
        "colab_type": "code",
        "outputId": "f2f8ded6-d3b7-4444-f6ab-9044f76f9be6",
        "colab": {
          "base_uri": "https://localhost:8080/",
          "height": 161
        }
      },
      "source": [
        "import h5py\n",
        "\n",
        "f = h5py.File('/content/drive/My Drive/vgg16_weights_tf_dim_ordering_tf_kernels.h5', 'r')\n",
        "  \n",
        "# Select the layers for which you want to set weight.\n",
        "print(f.keys()) \n",
        "w,b = f['block1_conv1']['block1_conv1_W_1:0'], f['block1_conv1']['block1_conv1_b_1:0']\n",
        "\n",
        "print(w.__class__.__name__)\n",
        "print(w.shape)\n",
        "print(b.__class__.__name__)\n",
        "print(b.shape)\n",
        "print(f.__class__.__name__)\n",
        "\n",
        "f.close()\n",
        "'''\n",
        "w là các trọng số(weights) và b là trung bình sai số(bias). \n",
        "w, b is dataset are numpy arrays\n",
        "'''"
      ],
      "execution_count": 0,
      "outputs": [
        {
          "output_type": "stream",
          "text": [
            "<KeysViewHDF5 ['block1_conv1', 'block1_conv2', 'block1_pool', 'block2_conv1', 'block2_conv2', 'block2_pool', 'block3_conv1', 'block3_conv2', 'block3_conv3', 'block3_pool', 'block4_conv1', 'block4_conv2', 'block4_conv3', 'block4_pool', 'block5_conv1', 'block5_conv2', 'block5_conv3', 'block5_pool', 'fc1', 'fc2', 'flatten', 'predictions']>\n",
            "Dataset\n",
            "(3, 3, 3, 64)\n",
            "Dataset\n",
            "(64,)\n",
            "File\n"
          ],
          "name": "stdout"
        },
        {
          "output_type": "execute_result",
          "data": {
            "text/plain": [
              "'\\nw là các trọng số(weights) và b là trung bình sai số(bias). \\nw, b is dataset are numpy arrays\\n'"
            ]
          },
          "metadata": {
            "tags": []
          },
          "execution_count": 15
        }
      ]
    },
    {
      "cell_type": "code",
      "metadata": {
        "id": "c6Hb9Y6OiNLt",
        "colab_type": "code",
        "colab": {}
      },
      "source": [
        ""
      ],
      "execution_count": 0,
      "outputs": []
    }
  ]
}